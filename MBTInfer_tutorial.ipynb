{
  "nbformat": 4,
  "nbformat_minor": 0,
  "metadata": {
    "colab": {
      "name": "MBTInfer_tutorial.ipynb",
      "provenance": [],
      "collapsed_sections": [],
      "machine_shape": "hm"
    },
    "kernelspec": {
      "name": "python3",
      "display_name": "Python 3"
    },
    "language_info": {
      "name": "python"
    },
    "accelerator": "GPU"
  },
  "cells": [
    {
      "cell_type": "markdown",
      "metadata": {
        "id": "nhPHoOjIOaCH"
      },
      "source": [
        "### Git Clone Repo"
      ]
    },
    {
      "cell_type": "code",
      "metadata": {
        "id": "GvKzs7eDFfNA",
        "colab": {
          "base_uri": "https://localhost:8080/"
        },
        "outputId": "153b327f-d455-46a7-8fca-1541647c48c2"
      },
      "source": [
        "!git clone https://github.com/jhlee508/MBTInfer.git"
      ],
      "execution_count": 1,
      "outputs": [
        {
          "output_type": "stream",
          "name": "stdout",
          "text": [
            "Cloning into 'MBTInfer'...\n",
            "remote: Enumerating objects: 42, done.\u001b[K\n",
            "remote: Counting objects: 100% (42/42), done.\u001b[K\n",
            "remote: Compressing objects: 100% (31/31), done.\u001b[K\n",
            "remote: Total 42 (delta 17), reused 35 (delta 10), pack-reused 0\u001b[K\n",
            "Unpacking objects: 100% (42/42), done.\n"
          ]
        }
      ]
    },
    {
      "cell_type": "markdown",
      "metadata": {
        "id": "7vkVeHOUOdlo"
      },
      "source": [
        "### Install Library"
      ]
    },
    {
      "cell_type": "code",
      "metadata": {
        "colab": {
          "base_uri": "https://localhost:8080/"
        },
        "id": "0-UA4t8aMfWg",
        "outputId": "97579f75-46b9-4fea-cd8e-0608a93f6298"
      },
      "source": [
        "!pip install transformers\n",
        "!pip install pytorch-lightning"
      ],
      "execution_count": 2,
      "outputs": [
        {
          "output_type": "stream",
          "name": "stdout",
          "text": [
            "Collecting transformers\n",
            "  Downloading transformers-4.12.5-py3-none-any.whl (3.1 MB)\n",
            "\u001b[K     |████████████████████████████████| 3.1 MB 5.3 MB/s \n",
            "\u001b[?25hCollecting sacremoses\n",
            "  Downloading sacremoses-0.0.46-py3-none-any.whl (895 kB)\n",
            "\u001b[K     |████████████████████████████████| 895 kB 35.9 MB/s \n",
            "\u001b[?25hRequirement already satisfied: importlib-metadata in /usr/local/lib/python3.7/dist-packages (from transformers) (4.8.2)\n",
            "Collecting pyyaml>=5.1\n",
            "  Downloading PyYAML-6.0-cp37-cp37m-manylinux_2_5_x86_64.manylinux1_x86_64.manylinux_2_12_x86_64.manylinux2010_x86_64.whl (596 kB)\n",
            "\u001b[K     |████████████████████████████████| 596 kB 59.0 MB/s \n",
            "\u001b[?25hRequirement already satisfied: regex!=2019.12.17 in /usr/local/lib/python3.7/dist-packages (from transformers) (2019.12.20)\n",
            "Requirement already satisfied: filelock in /usr/local/lib/python3.7/dist-packages (from transformers) (3.4.0)\n",
            "Requirement already satisfied: packaging>=20.0 in /usr/local/lib/python3.7/dist-packages (from transformers) (21.3)\n",
            "Collecting tokenizers<0.11,>=0.10.1\n",
            "  Downloading tokenizers-0.10.3-cp37-cp37m-manylinux_2_5_x86_64.manylinux1_x86_64.manylinux_2_12_x86_64.manylinux2010_x86_64.whl (3.3 MB)\n",
            "\u001b[K     |████████████████████████████████| 3.3 MB 58.9 MB/s \n",
            "\u001b[?25hCollecting huggingface-hub<1.0,>=0.1.0\n",
            "  Downloading huggingface_hub-0.1.2-py3-none-any.whl (59 kB)\n",
            "\u001b[K     |████████████████████████████████| 59 kB 7.2 MB/s \n",
            "\u001b[?25hRequirement already satisfied: numpy>=1.17 in /usr/local/lib/python3.7/dist-packages (from transformers) (1.19.5)\n",
            "Requirement already satisfied: tqdm>=4.27 in /usr/local/lib/python3.7/dist-packages (from transformers) (4.62.3)\n",
            "Requirement already satisfied: requests in /usr/local/lib/python3.7/dist-packages (from transformers) (2.23.0)\n",
            "Requirement already satisfied: typing-extensions>=3.7.4.3 in /usr/local/lib/python3.7/dist-packages (from huggingface-hub<1.0,>=0.1.0->transformers) (3.10.0.2)\n",
            "Requirement already satisfied: pyparsing!=3.0.5,>=2.0.2 in /usr/local/lib/python3.7/dist-packages (from packaging>=20.0->transformers) (3.0.6)\n",
            "Requirement already satisfied: zipp>=0.5 in /usr/local/lib/python3.7/dist-packages (from importlib-metadata->transformers) (3.6.0)\n",
            "Requirement already satisfied: idna<3,>=2.5 in /usr/local/lib/python3.7/dist-packages (from requests->transformers) (2.10)\n",
            "Requirement already satisfied: certifi>=2017.4.17 in /usr/local/lib/python3.7/dist-packages (from requests->transformers) (2021.10.8)\n",
            "Requirement already satisfied: chardet<4,>=3.0.2 in /usr/local/lib/python3.7/dist-packages (from requests->transformers) (3.0.4)\n",
            "Requirement already satisfied: urllib3!=1.25.0,!=1.25.1,<1.26,>=1.21.1 in /usr/local/lib/python3.7/dist-packages (from requests->transformers) (1.24.3)\n",
            "Requirement already satisfied: joblib in /usr/local/lib/python3.7/dist-packages (from sacremoses->transformers) (1.1.0)\n",
            "Requirement already satisfied: click in /usr/local/lib/python3.7/dist-packages (from sacremoses->transformers) (7.1.2)\n",
            "Requirement already satisfied: six in /usr/local/lib/python3.7/dist-packages (from sacremoses->transformers) (1.15.0)\n",
            "Installing collected packages: pyyaml, tokenizers, sacremoses, huggingface-hub, transformers\n",
            "  Attempting uninstall: pyyaml\n",
            "    Found existing installation: PyYAML 3.13\n",
            "    Uninstalling PyYAML-3.13:\n",
            "      Successfully uninstalled PyYAML-3.13\n",
            "Successfully installed huggingface-hub-0.1.2 pyyaml-6.0 sacremoses-0.0.46 tokenizers-0.10.3 transformers-4.12.5\n",
            "Collecting pytorch-lightning\n",
            "  Downloading pytorch_lightning-1.5.2-py3-none-any.whl (1.0 MB)\n",
            "\u001b[K     |████████████████████████████████| 1.0 MB 5.1 MB/s \n",
            "\u001b[?25hRequirement already satisfied: packaging>=17.0 in /usr/local/lib/python3.7/dist-packages (from pytorch-lightning) (21.3)\n",
            "Requirement already satisfied: numpy>=1.17.2 in /usr/local/lib/python3.7/dist-packages (from pytorch-lightning) (1.19.5)\n",
            "Requirement already satisfied: tensorboard>=2.2.0 in /usr/local/lib/python3.7/dist-packages (from pytorch-lightning) (2.7.0)\n",
            "Collecting future>=0.17.1\n",
            "  Downloading future-0.18.2.tar.gz (829 kB)\n",
            "\u001b[K     |████████████████████████████████| 829 kB 54.8 MB/s \n",
            "\u001b[?25hCollecting pyDeprecate==0.3.1\n",
            "  Downloading pyDeprecate-0.3.1-py3-none-any.whl (10 kB)\n",
            "Requirement already satisfied: torch>=1.6 in /usr/local/lib/python3.7/dist-packages (from pytorch-lightning) (1.10.0+cu111)\n",
            "Requirement already satisfied: typing-extensions in /usr/local/lib/python3.7/dist-packages (from pytorch-lightning) (3.10.0.2)\n",
            "Requirement already satisfied: PyYAML>=5.1 in /usr/local/lib/python3.7/dist-packages (from pytorch-lightning) (6.0)\n",
            "Collecting fsspec[http]!=2021.06.0,>=2021.05.0\n",
            "  Downloading fsspec-2021.11.0-py3-none-any.whl (132 kB)\n",
            "\u001b[K     |████████████████████████████████| 132 kB 56.5 MB/s \n",
            "\u001b[?25hCollecting torchmetrics>=0.4.1\n",
            "  Downloading torchmetrics-0.6.0-py3-none-any.whl (329 kB)\n",
            "\u001b[K     |████████████████████████████████| 329 kB 54.4 MB/s \n",
            "\u001b[?25hRequirement already satisfied: tqdm>=4.41.0 in /usr/local/lib/python3.7/dist-packages (from pytorch-lightning) (4.62.3)\n",
            "Requirement already satisfied: requests in /usr/local/lib/python3.7/dist-packages (from fsspec[http]!=2021.06.0,>=2021.05.0->pytorch-lightning) (2.23.0)\n",
            "Collecting aiohttp\n",
            "  Downloading aiohttp-3.8.1-cp37-cp37m-manylinux_2_5_x86_64.manylinux1_x86_64.manylinux_2_12_x86_64.manylinux2010_x86_64.whl (1.1 MB)\n",
            "\u001b[K     |████████████████████████████████| 1.1 MB 56.5 MB/s \n",
            "\u001b[?25hRequirement already satisfied: pyparsing!=3.0.5,>=2.0.2 in /usr/local/lib/python3.7/dist-packages (from packaging>=17.0->pytorch-lightning) (3.0.6)\n",
            "Requirement already satisfied: werkzeug>=0.11.15 in /usr/local/lib/python3.7/dist-packages (from tensorboard>=2.2.0->pytorch-lightning) (1.0.1)\n",
            "Requirement already satisfied: wheel>=0.26 in /usr/local/lib/python3.7/dist-packages (from tensorboard>=2.2.0->pytorch-lightning) (0.37.0)\n",
            "Requirement already satisfied: markdown>=2.6.8 in /usr/local/lib/python3.7/dist-packages (from tensorboard>=2.2.0->pytorch-lightning) (3.3.6)\n",
            "Requirement already satisfied: absl-py>=0.4 in /usr/local/lib/python3.7/dist-packages (from tensorboard>=2.2.0->pytorch-lightning) (0.12.0)\n",
            "Requirement already satisfied: grpcio>=1.24.3 in /usr/local/lib/python3.7/dist-packages (from tensorboard>=2.2.0->pytorch-lightning) (1.42.0)\n",
            "Requirement already satisfied: google-auth-oauthlib<0.5,>=0.4.1 in /usr/local/lib/python3.7/dist-packages (from tensorboard>=2.2.0->pytorch-lightning) (0.4.6)\n",
            "Requirement already satisfied: protobuf>=3.6.0 in /usr/local/lib/python3.7/dist-packages (from tensorboard>=2.2.0->pytorch-lightning) (3.17.3)\n",
            "Requirement already satisfied: tensorboard-data-server<0.7.0,>=0.6.0 in /usr/local/lib/python3.7/dist-packages (from tensorboard>=2.2.0->pytorch-lightning) (0.6.1)\n",
            "Requirement already satisfied: tensorboard-plugin-wit>=1.6.0 in /usr/local/lib/python3.7/dist-packages (from tensorboard>=2.2.0->pytorch-lightning) (1.8.0)\n",
            "Requirement already satisfied: setuptools>=41.0.0 in /usr/local/lib/python3.7/dist-packages (from tensorboard>=2.2.0->pytorch-lightning) (57.4.0)\n",
            "Requirement already satisfied: google-auth<3,>=1.6.3 in /usr/local/lib/python3.7/dist-packages (from tensorboard>=2.2.0->pytorch-lightning) (1.35.0)\n",
            "Requirement already satisfied: six in /usr/local/lib/python3.7/dist-packages (from absl-py>=0.4->tensorboard>=2.2.0->pytorch-lightning) (1.15.0)\n",
            "Requirement already satisfied: pyasn1-modules>=0.2.1 in /usr/local/lib/python3.7/dist-packages (from google-auth<3,>=1.6.3->tensorboard>=2.2.0->pytorch-lightning) (0.2.8)\n",
            "Requirement already satisfied: rsa<5,>=3.1.4 in /usr/local/lib/python3.7/dist-packages (from google-auth<3,>=1.6.3->tensorboard>=2.2.0->pytorch-lightning) (4.7.2)\n",
            "Requirement already satisfied: cachetools<5.0,>=2.0.0 in /usr/local/lib/python3.7/dist-packages (from google-auth<3,>=1.6.3->tensorboard>=2.2.0->pytorch-lightning) (4.2.4)\n",
            "Requirement already satisfied: requests-oauthlib>=0.7.0 in /usr/local/lib/python3.7/dist-packages (from google-auth-oauthlib<0.5,>=0.4.1->tensorboard>=2.2.0->pytorch-lightning) (1.3.0)\n",
            "Requirement already satisfied: importlib-metadata>=4.4 in /usr/local/lib/python3.7/dist-packages (from markdown>=2.6.8->tensorboard>=2.2.0->pytorch-lightning) (4.8.2)\n",
            "Requirement already satisfied: zipp>=0.5 in /usr/local/lib/python3.7/dist-packages (from importlib-metadata>=4.4->markdown>=2.6.8->tensorboard>=2.2.0->pytorch-lightning) (3.6.0)\n",
            "Requirement already satisfied: pyasn1<0.5.0,>=0.4.6 in /usr/local/lib/python3.7/dist-packages (from pyasn1-modules>=0.2.1->google-auth<3,>=1.6.3->tensorboard>=2.2.0->pytorch-lightning) (0.4.8)\n",
            "Requirement already satisfied: urllib3!=1.25.0,!=1.25.1,<1.26,>=1.21.1 in /usr/local/lib/python3.7/dist-packages (from requests->fsspec[http]!=2021.06.0,>=2021.05.0->pytorch-lightning) (1.24.3)\n",
            "Requirement already satisfied: chardet<4,>=3.0.2 in /usr/local/lib/python3.7/dist-packages (from requests->fsspec[http]!=2021.06.0,>=2021.05.0->pytorch-lightning) (3.0.4)\n",
            "Requirement already satisfied: certifi>=2017.4.17 in /usr/local/lib/python3.7/dist-packages (from requests->fsspec[http]!=2021.06.0,>=2021.05.0->pytorch-lightning) (2021.10.8)\n",
            "Requirement already satisfied: idna<3,>=2.5 in /usr/local/lib/python3.7/dist-packages (from requests->fsspec[http]!=2021.06.0,>=2021.05.0->pytorch-lightning) (2.10)\n",
            "Requirement already satisfied: oauthlib>=3.0.0 in /usr/local/lib/python3.7/dist-packages (from requests-oauthlib>=0.7.0->google-auth-oauthlib<0.5,>=0.4.1->tensorboard>=2.2.0->pytorch-lightning) (3.1.1)\n",
            "Collecting multidict<7.0,>=4.5\n",
            "  Downloading multidict-5.2.0-cp37-cp37m-manylinux_2_5_x86_64.manylinux1_x86_64.manylinux_2_12_x86_64.manylinux2010_x86_64.whl (160 kB)\n",
            "\u001b[K     |████████████████████████████████| 160 kB 55.0 MB/s \n",
            "\u001b[?25hCollecting aiosignal>=1.1.2\n",
            "  Downloading aiosignal-1.2.0-py3-none-any.whl (8.2 kB)\n",
            "Requirement already satisfied: charset-normalizer<3.0,>=2.0 in /usr/local/lib/python3.7/dist-packages (from aiohttp->fsspec[http]!=2021.06.0,>=2021.05.0->pytorch-lightning) (2.0.7)\n",
            "Collecting asynctest==0.13.0\n",
            "  Downloading asynctest-0.13.0-py3-none-any.whl (26 kB)\n",
            "Collecting async-timeout<5.0,>=4.0.0a3\n",
            "  Downloading async_timeout-4.0.1-py3-none-any.whl (5.7 kB)\n",
            "Requirement already satisfied: attrs>=17.3.0 in /usr/local/lib/python3.7/dist-packages (from aiohttp->fsspec[http]!=2021.06.0,>=2021.05.0->pytorch-lightning) (21.2.0)\n",
            "Collecting frozenlist>=1.1.1\n",
            "  Downloading frozenlist-1.2.0-cp37-cp37m-manylinux_2_5_x86_64.manylinux1_x86_64.manylinux_2_12_x86_64.manylinux2010_x86_64.whl (192 kB)\n",
            "\u001b[K     |████████████████████████████████| 192 kB 58.1 MB/s \n",
            "\u001b[?25hCollecting yarl<2.0,>=1.0\n",
            "  Downloading yarl-1.7.2-cp37-cp37m-manylinux_2_5_x86_64.manylinux1_x86_64.manylinux_2_12_x86_64.manylinux2010_x86_64.whl (271 kB)\n",
            "\u001b[K     |████████████████████████████████| 271 kB 54.8 MB/s \n",
            "\u001b[?25hBuilding wheels for collected packages: future\n",
            "  Building wheel for future (setup.py) ... \u001b[?25l\u001b[?25hdone\n",
            "  Created wheel for future: filename=future-0.18.2-py3-none-any.whl size=491070 sha256=516305f342774157535a39e0aaa894b47ae5000b03995c1939fff70c176aeba0\n",
            "  Stored in directory: /root/.cache/pip/wheels/56/b0/fe/4410d17b32f1f0c3cf54cdfb2bc04d7b4b8f4ae377e2229ba0\n",
            "Successfully built future\n",
            "Installing collected packages: multidict, frozenlist, yarl, asynctest, async-timeout, aiosignal, fsspec, aiohttp, torchmetrics, pyDeprecate, future, pytorch-lightning\n",
            "  Attempting uninstall: future\n",
            "    Found existing installation: future 0.16.0\n",
            "    Uninstalling future-0.16.0:\n",
            "      Successfully uninstalled future-0.16.0\n",
            "Successfully installed aiohttp-3.8.1 aiosignal-1.2.0 async-timeout-4.0.1 asynctest-0.13.0 frozenlist-1.2.0 fsspec-2021.11.0 future-0.18.2 multidict-5.2.0 pyDeprecate-0.3.1 pytorch-lightning-1.5.2 torchmetrics-0.6.0 yarl-1.7.2\n"
          ]
        }
      ]
    },
    {
      "cell_type": "markdown",
      "metadata": {
        "id": "Bn55gOjnOi6g"
      },
      "source": [
        "# Training"
      ]
    },
    {
      "cell_type": "code",
      "metadata": {
        "colab": {
          "base_uri": "https://localhost:8080/"
        },
        "id": "q8ZFrjaXNnry",
        "outputId": "aed6daa1-3218-46fb-d53f-e7ddbbdcd2f0"
      },
      "source": [
        "%cd MBTInfer/"
      ],
      "execution_count": 3,
      "outputs": [
        {
          "output_type": "stream",
          "name": "stdout",
          "text": [
            "/content/MBTInfer\n"
          ]
        }
      ]
    },
    {
      "cell_type": "code",
      "metadata": {
        "colab": {
          "base_uri": "https://localhost:8080/"
        },
        "id": "8Ky1VaTVMV8Q",
        "outputId": "f70c2065-6328-45db-c958-3e61cdb3a16a"
      },
      "source": [
        "!python training.py --max_epochs 20 --lr 0.00001 --batch_size 64"
      ],
      "execution_count": 5,
      "outputs": [
        {
          "output_type": "stream",
          "name": "stdout",
          "text": [
            "Downloading: 100% 570/570 [00:00<00:00, 732kB/s]\n",
            "Downloading: 100% 420M/420M [00:06<00:00, 71.7MB/s]\n",
            "Some weights of the model checkpoint at bert-base-uncased were not used when initializing BertForMaskedLM: ['cls.seq_relationship.bias', 'cls.seq_relationship.weight']\n",
            "- This IS expected if you are initializing BertForMaskedLM from the checkpoint of a model trained on another task or with another architecture (e.g. initializing a BertForSequenceClassification model from a BertForPreTraining model).\n",
            "- This IS NOT expected if you are initializing BertForMaskedLM from the checkpoint of a model that you expect to be exactly identical (initializing a BertForSequenceClassification model from a BertForSequenceClassification model).\n",
            "Downloading: 100% 226k/226k [00:00<00:00, 913kB/s]\n",
            "Downloading: 100% 28.0/28.0 [00:00<00:00, 36.9kB/s]\n",
            "Downloading: 100% 455k/455k [00:00<00:00, 1.49MB/s]\n",
            "GPU available: True, used: True\n",
            "TPU available: False, using: 0 TPU cores\n",
            "IPU available: False, using: 0 IPUs\n",
            "/usr/local/lib/python3.7/dist-packages/pytorch_lightning/trainer/trainer.py:733: LightningDeprecationWarning: `trainer.fit(train_dataloader)` is deprecated in v1.4 and will be removed in v1.6. Use `trainer.fit(train_dataloaders)` instead. HINT: added 's'\n",
            "  \"`trainer.fit(train_dataloader)` is deprecated in v1.4 and will be removed in v1.6.\"\n",
            "LOCAL_RANK: 0 - CUDA_VISIBLE_DEVICES: [0]\n",
            "\n",
            "  | Name     | Type            | Params\n",
            "---------------------------------------------\n",
            "0 | bert_mlm | BertForMaskedLM | 109 M \n",
            "---------------------------------------------\n",
            "109 M     Trainable params\n",
            "0         Non-trainable params\n",
            "109 M     Total params\n",
            "438.057   Total estimated model params size (MB)\n",
            "Epoch 0: 100% 140/140 [01:07<00:00,  2.08it/s, loss=1.5, v_num=0] tcmalloc: large alloc 1092804608 bytes == 0x55e8b478c000 @  0x7f8532b41615 0x55e79d3e44cc 0x55e79d4c447a 0x55e79d3eaf0c 0x7f852dd539e4 0x7f852dd5bb14 0x7f852dd30a60 0x7f848550ef55 0x7f848550a88e 0x7f8485512235 0x7f852dd30fae 0x7f852d4a7aa8 0x55e79d3e8098 0x55e79d45b4d9 0x55e79d455ced 0x55e79d3e8bda 0x55e79d456915 0x55e79d4559ee 0x55e79d3e8bda 0x55e79d45ad00 0x55e79d3e8afa 0x55e79d456915 0x55e79d4559ee 0x55e79d3e8bda 0x55e79d456c0d 0x55e79d3e8afa 0x55e79d456c0d 0x55e79d4559ee 0x55e79d3e8bda 0x55e79d456c0d 0x55e79d4559ee\n",
            "tcmalloc: large alloc 1366007808 bytes == 0x55e84d2d8000 @  0x7f8532b41615 0x55e79d3e44cc 0x55e79d4c447a 0x55e79d3eaf0c 0x7f852dd539e4 0x7f852dd5bb14 0x7f852dd30a60 0x7f848550ef55 0x7f848550a88e 0x7f8485512235 0x7f852dd30fae 0x7f852d4a7aa8 0x55e79d3e8098 0x55e79d45b4d9 0x55e79d455ced 0x55e79d3e8bda 0x55e79d456915 0x55e79d4559ee 0x55e79d3e8bda 0x55e79d45ad00 0x55e79d3e8afa 0x55e79d456915 0x55e79d4559ee 0x55e79d3e8bda 0x55e79d456c0d 0x55e79d3e8afa 0x55e79d456c0d 0x55e79d4559ee 0x55e79d3e8bda 0x55e79d456c0d 0x55e79d4559ee\n",
            "tcmalloc: large alloc 1707515904 bytes == 0x55e8b478c000 @  0x7f8532b41615 0x55e79d3e44cc 0x55e79d4c447a 0x55e79d3eaf0c 0x7f852dd539e4 0x7f852dd5bb14 0x7f852dd30a60 0x7f848550ef55 0x7f848550a88e 0x7f8485512235 0x7f852dd30fae 0x7f852d4a7aa8 0x55e79d3e8098 0x55e79d45b4d9 0x55e79d455ced 0x55e79d3e8bda 0x55e79d456915 0x55e79d4559ee 0x55e79d3e8bda 0x55e79d45ad00 0x55e79d3e8afa 0x55e79d456915 0x55e79d4559ee 0x55e79d3e8bda 0x55e79d456c0d 0x55e79d3e8afa 0x55e79d456c0d 0x55e79d4559ee 0x55e79d3e8bda 0x55e79d456c0d 0x55e79d4559ee\n",
            "Epoch 1: 100% 140/140 [01:07<00:00,  2.08it/s, loss=1.03, v_num=0]tcmalloc: large alloc 1707515904 bytes == 0x55e84d2d8000 @  0x7f8532b41615 0x55e79d3e44cc 0x55e79d4c447a 0x55e79d3eaf0c 0x7f852dd539e4 0x7f852dd5bb14 0x7f852dd30a60 0x7f848550ef55 0x7f848550a88e 0x7f8485512235 0x7f852dd30fae 0x7f852d4a7aa8 0x55e79d3e8098 0x55e79d45b4d9 0x55e79d455ced 0x55e79d3e8bda 0x55e79d456915 0x55e79d4559ee 0x55e79d3e8bda 0x55e79d45ad00 0x55e79d3e8afa 0x55e79d456915 0x55e79d4559ee 0x55e79d3e8bda 0x55e79d456c0d 0x55e79d3e8afa 0x55e79d456c0d 0x55e79d4559ee 0x55e79d3e8bda 0x55e79d456c0d 0x55e79d4559ee\n",
            "Epoch 19: 100% 140/140 [01:07<00:00,  2.08it/s, loss=0.931, v_num=0]\n"
          ]
        }
      ]
    },
    {
      "cell_type": "markdown",
      "metadata": {
        "id": "r7lG1DPHOlH0"
      },
      "source": [
        "# Inference\n",
        "- dataset Ver 1"
      ]
    },
    {
      "cell_type": "code",
      "metadata": {
        "colab": {
          "base_uri": "https://localhost:8080/"
        },
        "id": "v_uHXvrOO4wq",
        "outputId": "0c83fea0-88ad-4da1-b02c-29dfc3ef6889"
      },
      "source": [
        "!python inference.py --desc \"sensitive, caring, and compassionate, and are deeply concerned with the personal growth of themselves and others. Individualistic and nonjudgmental, they believe that each person must find their own path. They enjoy spending time exploring their own ideas and values, and are gently encouraging to others to do the same\""
      ],
      "execution_count": null,
      "outputs": [
        {
          "output_type": "stream",
          "name": "stdout",
          "text": [
            "Some weights of the model checkpoint at bert-base-uncased were not used when initializing BertForMaskedLM: ['cls.seq_relationship.bias', 'cls.seq_relationship.weight']\n",
            "- This IS expected if you are initializing BertForMaskedLM from the checkpoint of a model trained on another task or with another architecture (e.g. initializing a BertForSequenceClassification model from a BertForPreTraining model).\n",
            "- This IS NOT expected if you are initializing BertForMaskedLM from the checkpoint of a model that you expect to be exactly identical (initializing a BertForSequenceClassification model from a BertForSequenceClassification model).\n",
            "[Question] \n",
            ">>> sensitive, caring, and compassionate, and are deeply concerned with the personal growth of themselves and others. Individualistic and nonjudgmental, they believe that each person must find their own path. They enjoy spending time exploring their own ideas and values, and are gently encouraging to others to do the same\n",
            "[Answer]\n",
            ">>> 1: ('INFJ', 0.923412024974823)\n",
            ">>> 2: ('INFP', 0.05402426794171333)\n",
            ">>> 3: ('ENFJ', 0.02073288895189762)\n",
            ">>> 4: ('ENFP', 0.0012129794340580702)\n",
            ">>> 5: ('INTJ', 0.00029037651256658137)\n",
            ">>> 6: ('ISFJ', 0.00015644257655367255)\n",
            ">>> 7: ('ENTJ', 0.00011082019773311913)\n",
            ">>> 8: ('INTP', 2.6750723918667063e-05)\n",
            ">>> 9: ('ESFJ', 1.1298799108772073e-05)\n",
            ">>> 10: ('ISFP', 9.152690836344846e-06)\n",
            ">>> 11: ('ISTJ', 8.657746548124123e-06)\n",
            ">>> 12: ('ESTJ', 2.5042738798219943e-06)\n",
            ">>> 13: ('ISTP', 7.975885409905459e-07)\n",
            ">>> 14: ('ESFP', 6.610368359361019e-07)\n",
            ">>> 15: ('ESTP', 2.3070418819770566e-07)\n",
            ">>> 16: ('ENTP', 1.1267045607610271e-07)\n"
          ]
        }
      ]
    },
    {
      "cell_type": "markdown",
      "metadata": {
        "id": "2Ss67HpiOH-8"
      },
      "source": [
        "# Inference\n",
        "- dataset Ver 3"
      ]
    },
    {
      "cell_type": "code",
      "metadata": {
        "colab": {
          "base_uri": "https://localhost:8080/"
        },
        "id": "ksj1hLn6OHno",
        "outputId": "416a7631-9768-4554-aa9b-d9ff5e25d2e7"
      },
      "source": [
        "!python inference.py --desc \"sensitive, caring, and compassionate, and are deeply concerned with the personal growth of themselves and others. Individualistic and nonjudgmental, they believe that each person must find their own path. They enjoy spending time exploring their own ideas and values, and are gently encouraging to others to do the same\""
      ],
      "execution_count": 7,
      "outputs": [
        {
          "output_type": "stream",
          "name": "stdout",
          "text": [
            "Some weights of the model checkpoint at bert-base-uncased were not used when initializing BertForMaskedLM: ['cls.seq_relationship.weight', 'cls.seq_relationship.bias']\n",
            "- This IS expected if you are initializing BertForMaskedLM from the checkpoint of a model trained on another task or with another architecture (e.g. initializing a BertForSequenceClassification model from a BertForPreTraining model).\n",
            "- This IS NOT expected if you are initializing BertForMaskedLM from the checkpoint of a model that you expect to be exactly identical (initializing a BertForSequenceClassification model from a BertForSequenceClassification model).\n",
            "[Question] \n",
            ">>> sensitive, caring, and compassionate, and are deeply concerned with the personal growth of themselves and others. Individualistic and nonjudgmental, they believe that each person must find their own path. They enjoy spending time exploring their own ideas and values, and are gently encouraging to others to do the same\n",
            "[Answer]\n",
            ">>> 1: ('INFP', 0.967139482498169)\n",
            ">>> 2: ('ENFP', 0.03178846091032028)\n",
            ">>> 3: ('INFJ', 0.0008505146834068)\n",
            ">>> 4: ('ISFP', 0.00018960714805871248)\n",
            ">>> 5: ('ENFJ', 2.7955164114246145e-05)\n",
            ">>> 6: ('ESFP', 3.324546469229972e-06)\n",
            ">>> 7: ('INTP', 4.5082524025019666e-07)\n",
            ">>> 8: ('ISFJ', 1.6674302116825857e-07)\n",
            ">>> 9: ('INTJ', 1.991896247943714e-08)\n",
            ">>> 10: ('ENTP', 1.8295478909635676e-08)\n",
            ">>> 11: ('ENTJ', 7.738183427363765e-09)\n",
            ">>> 12: ('ISTP', 6.413173103680947e-09)\n",
            ">>> 13: ('ESFJ', 2.923652653308295e-09)\n",
            ">>> 14: ('ESTP', 3.17611215105984e-10)\n",
            ">>> 15: ('ISTJ', 2.8335481183638933e-10)\n",
            ">>> 16: ('ESTJ', 1.4033121886747324e-11)\n"
          ]
        }
      ]
    },
    {
      "cell_type": "code",
      "metadata": {
        "colab": {
          "base_uri": "https://localhost:8080/"
        },
        "id": "5rIdweC4TSsw",
        "outputId": "aaa1186e-3af1-46ff-a1a4-2d41c1bf5770"
      },
      "source": [
        "!python inference.py --desc \"tend to be organized, loyal, and hard-working in their behavior. Also, practical, logical, and consistently motivated. Also, are assertive and are very concerned with making sure that things run smoothly and according to the rules.\""
      ],
      "execution_count": 14,
      "outputs": [
        {
          "output_type": "stream",
          "name": "stdout",
          "text": [
            "Some weights of the model checkpoint at bert-base-uncased were not used when initializing BertForMaskedLM: ['cls.seq_relationship.bias', 'cls.seq_relationship.weight']\n",
            "- This IS expected if you are initializing BertForMaskedLM from the checkpoint of a model trained on another task or with another architecture (e.g. initializing a BertForSequenceClassification model from a BertForPreTraining model).\n",
            "- This IS NOT expected if you are initializing BertForMaskedLM from the checkpoint of a model that you expect to be exactly identical (initializing a BertForSequenceClassification model from a BertForSequenceClassification model).\n",
            "[Question] \n",
            ">>> tend to be organized, loyal, and hard-working in their behavior. Also, practical, logical, and consistently motivated. Also, are assertive and are very concerned with making sure that things run smoothly and according to the rules.\n",
            "[Answer]\n",
            ">>> 1: ('ISFJ', 0.8757210373878479)\n",
            ">>> 2: ('ESFJ', 0.10591980814933777)\n",
            ">>> 3: ('ENFJ', 0.007299203425645828)\n",
            ">>> 4: ('INFJ', 0.005578596144914627)\n",
            ">>> 5: ('ENTJ', 0.003096390049904585)\n",
            ">>> 6: ('ISFP', 0.001646266900934279)\n",
            ">>> 7: ('ESTJ', 0.0003357179812155664)\n",
            ">>> 8: ('ESFP', 0.0001991185126826167)\n",
            ">>> 9: ('ISTJ', 0.00010422627383377403)\n",
            ">>> 10: ('ESTP', 4.6024277253309265e-05)\n",
            ">>> 11: ('ISTP', 1.4288581951404922e-05)\n",
            ">>> 12: ('ENFP', 1.3721762115892489e-05)\n",
            ">>> 13: ('INTJ', 1.3141257113602478e-05)\n",
            ">>> 14: ('INFP', 1.0487199688213877e-05)\n",
            ">>> 15: ('INTP', 1.80156234819151e-06)\n",
            ">>> 16: ('ENTP', 2.594995578419912e-07)\n"
          ]
        }
      ]
    },
    {
      "cell_type": "code",
      "metadata": {
        "colab": {
          "base_uri": "https://localhost:8080/"
        },
        "id": "XoFgaQOPVhcO",
        "outputId": "bd80c65a-909e-4e13-9e98-62628409d043"
      },
      "source": [
        "!python inference.py --desc \"Energetic, warm, and passionate, love to help other people explore their creative potential. They are typically agile and expressive communicators, using their wit, humor, and mastery of language to create engaging stories. They are drawn to art because of its ability to express inventive ideas and create a deeper understanding of human experience.\""
      ],
      "execution_count": 21,
      "outputs": [
        {
          "output_type": "stream",
          "name": "stdout",
          "text": [
            "Some weights of the model checkpoint at bert-base-uncased were not used when initializing BertForMaskedLM: ['cls.seq_relationship.weight', 'cls.seq_relationship.bias']\n",
            "- This IS expected if you are initializing BertForMaskedLM from the checkpoint of a model trained on another task or with another architecture (e.g. initializing a BertForSequenceClassification model from a BertForPreTraining model).\n",
            "- This IS NOT expected if you are initializing BertForMaskedLM from the checkpoint of a model that you expect to be exactly identical (initializing a BertForSequenceClassification model from a BertForSequenceClassification model).\n",
            "[Question] \n",
            ">>> Energetic, warm, and passionate, love to help other people explore their creative potential. They are typically agile and expressive communicators, using their wit, humor, and mastery of language to create engaging stories. They are drawn to art because of its ability to express inventive ideas and create a deeper understanding of human experience.\n",
            "[Answer]\n",
            ">>> 1: ('ENFP', 0.6697851419448853)\n",
            ">>> 2: ('ESFP', 0.3293229937553406)\n",
            ">>> 3: ('ENFJ', 0.00038124117418192327)\n",
            ">>> 4: ('ESFJ', 0.00018745036504697055)\n",
            ">>> 5: ('INFP', 0.0001485635875724256)\n",
            ">>> 6: ('ENTP', 0.00013678945833817124)\n",
            ">>> 7: ('ISFP', 2.6686149794841185e-05)\n",
            ">>> 8: ('ENTJ', 5.248193701845594e-06)\n",
            ">>> 9: ('INTP', 4.219858055876102e-06)\n",
            ">>> 10: ('ESTP', 1.469168068979343e-06)\n",
            ">>> 11: ('ISTP', 1.0595708488381206e-07)\n",
            ">>> 12: ('INFJ', 8.456227362785285e-08)\n",
            ">>> 13: ('ISFJ', 1.518974990233346e-08)\n",
            ">>> 14: ('INTJ', 9.522251431803852e-09)\n",
            ">>> 15: ('ESTJ', 3.3152331990748962e-09)\n",
            ">>> 16: ('ISTJ', 2.390961872933417e-10)\n"
          ]
        }
      ]
    }
  ]
}